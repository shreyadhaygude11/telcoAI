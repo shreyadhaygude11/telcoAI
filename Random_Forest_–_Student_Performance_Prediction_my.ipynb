{
  "nbformat": 4,
  "nbformat_minor": 0,
  "metadata": {
    "colab": {
      "provenance": []
    },
    "kernelspec": {
      "name": "python3",
      "display_name": "Python 3"
    },
    "language_info": {
      "name": "python"
    }
  },
  "cells": [
    {
      "cell_type": "markdown",
      "source": [
        "Decision Tree Classifier — Student Performance Prediction"
      ],
      "metadata": {
        "id": "iTAEVbrwEO0X"
      }
    },
    {
      "cell_type": "markdown",
      "source": [
        "import library"
      ],
      "metadata": {
        "id": "yda5maVzETPM"
      }
    },
    {
      "cell_type": "code",
      "execution_count": 1,
      "metadata": {
        "id": "elPS5IzQD1ZS"
      },
      "outputs": [],
      "source": [
        "import pandas as pd\n",
        "import seaborn as sns\n",
        "import matplotlib.pyplot as plt\n",
        "from sklearn.model_selection import train_test_split\n",
        "from sklearn.tree import DecisionTreeClassifier, plot_tree\n",
        "from sklearn.metrics import accuracy_score, classification_report, confusion_matrix"
      ]
    },
    {
      "cell_type": "markdown",
      "source": [
        "Load dataset"
      ],
      "metadata": {
        "id": "Mm1ocACUEZJh"
      }
    },
    {
      "cell_type": "code",
      "source": [
        "from google.colab import files\n",
        "uploaded = files.upload()\n",
        "\n"
      ],
      "metadata": {
        "id": "FxOPxR8PEh4S",
        "colab": {
          "base_uri": "https://localhost:8080/",
          "height": 73
        },
        "outputId": "91f0c3e1-2e1c-45d7-9999-ef8efdcfdd1b"
      },
      "execution_count": 2,
      "outputs": [
        {
          "output_type": "display_data",
          "data": {
            "text/plain": [
              "<IPython.core.display.HTML object>"
            ],
            "text/html": [
              "\n",
              "     <input type=\"file\" id=\"files-58694742-a13e-4146-9c5f-31f6ee9affa2\" name=\"files[]\" multiple disabled\n",
              "        style=\"border:none\" />\n",
              "     <output id=\"result-58694742-a13e-4146-9c5f-31f6ee9affa2\">\n",
              "      Upload widget is only available when the cell has been executed in the\n",
              "      current browser session. Please rerun this cell to enable.\n",
              "      </output>\n",
              "      <script>// Copyright 2017 Google LLC\n",
              "//\n",
              "// Licensed under the Apache License, Version 2.0 (the \"License\");\n",
              "// you may not use this file except in compliance with the License.\n",
              "// You may obtain a copy of the License at\n",
              "//\n",
              "//      http://www.apache.org/licenses/LICENSE-2.0\n",
              "//\n",
              "// Unless required by applicable law or agreed to in writing, software\n",
              "// distributed under the License is distributed on an \"AS IS\" BASIS,\n",
              "// WITHOUT WARRANTIES OR CONDITIONS OF ANY KIND, either express or implied.\n",
              "// See the License for the specific language governing permissions and\n",
              "// limitations under the License.\n",
              "\n",
              "/**\n",
              " * @fileoverview Helpers for google.colab Python module.\n",
              " */\n",
              "(function(scope) {\n",
              "function span(text, styleAttributes = {}) {\n",
              "  const element = document.createElement('span');\n",
              "  element.textContent = text;\n",
              "  for (const key of Object.keys(styleAttributes)) {\n",
              "    element.style[key] = styleAttributes[key];\n",
              "  }\n",
              "  return element;\n",
              "}\n",
              "\n",
              "// Max number of bytes which will be uploaded at a time.\n",
              "const MAX_PAYLOAD_SIZE = 100 * 1024;\n",
              "\n",
              "function _uploadFiles(inputId, outputId) {\n",
              "  const steps = uploadFilesStep(inputId, outputId);\n",
              "  const outputElement = document.getElementById(outputId);\n",
              "  // Cache steps on the outputElement to make it available for the next call\n",
              "  // to uploadFilesContinue from Python.\n",
              "  outputElement.steps = steps;\n",
              "\n",
              "  return _uploadFilesContinue(outputId);\n",
              "}\n",
              "\n",
              "// This is roughly an async generator (not supported in the browser yet),\n",
              "// where there are multiple asynchronous steps and the Python side is going\n",
              "// to poll for completion of each step.\n",
              "// This uses a Promise to block the python side on completion of each step,\n",
              "// then passes the result of the previous step as the input to the next step.\n",
              "function _uploadFilesContinue(outputId) {\n",
              "  const outputElement = document.getElementById(outputId);\n",
              "  const steps = outputElement.steps;\n",
              "\n",
              "  const next = steps.next(outputElement.lastPromiseValue);\n",
              "  return Promise.resolve(next.value.promise).then((value) => {\n",
              "    // Cache the last promise value to make it available to the next\n",
              "    // step of the generator.\n",
              "    outputElement.lastPromiseValue = value;\n",
              "    return next.value.response;\n",
              "  });\n",
              "}\n",
              "\n",
              "/**\n",
              " * Generator function which is called between each async step of the upload\n",
              " * process.\n",
              " * @param {string} inputId Element ID of the input file picker element.\n",
              " * @param {string} outputId Element ID of the output display.\n",
              " * @return {!Iterable<!Object>} Iterable of next steps.\n",
              " */\n",
              "function* uploadFilesStep(inputId, outputId) {\n",
              "  const inputElement = document.getElementById(inputId);\n",
              "  inputElement.disabled = false;\n",
              "\n",
              "  const outputElement = document.getElementById(outputId);\n",
              "  outputElement.innerHTML = '';\n",
              "\n",
              "  const pickedPromise = new Promise((resolve) => {\n",
              "    inputElement.addEventListener('change', (e) => {\n",
              "      resolve(e.target.files);\n",
              "    });\n",
              "  });\n",
              "\n",
              "  const cancel = document.createElement('button');\n",
              "  inputElement.parentElement.appendChild(cancel);\n",
              "  cancel.textContent = 'Cancel upload';\n",
              "  const cancelPromise = new Promise((resolve) => {\n",
              "    cancel.onclick = () => {\n",
              "      resolve(null);\n",
              "    };\n",
              "  });\n",
              "\n",
              "  // Wait for the user to pick the files.\n",
              "  const files = yield {\n",
              "    promise: Promise.race([pickedPromise, cancelPromise]),\n",
              "    response: {\n",
              "      action: 'starting',\n",
              "    }\n",
              "  };\n",
              "\n",
              "  cancel.remove();\n",
              "\n",
              "  // Disable the input element since further picks are not allowed.\n",
              "  inputElement.disabled = true;\n",
              "\n",
              "  if (!files) {\n",
              "    return {\n",
              "      response: {\n",
              "        action: 'complete',\n",
              "      }\n",
              "    };\n",
              "  }\n",
              "\n",
              "  for (const file of files) {\n",
              "    const li = document.createElement('li');\n",
              "    li.append(span(file.name, {fontWeight: 'bold'}));\n",
              "    li.append(span(\n",
              "        `(${file.type || 'n/a'}) - ${file.size} bytes, ` +\n",
              "        `last modified: ${\n",
              "            file.lastModifiedDate ? file.lastModifiedDate.toLocaleDateString() :\n",
              "                                    'n/a'} - `));\n",
              "    const percent = span('0% done');\n",
              "    li.appendChild(percent);\n",
              "\n",
              "    outputElement.appendChild(li);\n",
              "\n",
              "    const fileDataPromise = new Promise((resolve) => {\n",
              "      const reader = new FileReader();\n",
              "      reader.onload = (e) => {\n",
              "        resolve(e.target.result);\n",
              "      };\n",
              "      reader.readAsArrayBuffer(file);\n",
              "    });\n",
              "    // Wait for the data to be ready.\n",
              "    let fileData = yield {\n",
              "      promise: fileDataPromise,\n",
              "      response: {\n",
              "        action: 'continue',\n",
              "      }\n",
              "    };\n",
              "\n",
              "    // Use a chunked sending to avoid message size limits. See b/62115660.\n",
              "    let position = 0;\n",
              "    do {\n",
              "      const length = Math.min(fileData.byteLength - position, MAX_PAYLOAD_SIZE);\n",
              "      const chunk = new Uint8Array(fileData, position, length);\n",
              "      position += length;\n",
              "\n",
              "      const base64 = btoa(String.fromCharCode.apply(null, chunk));\n",
              "      yield {\n",
              "        response: {\n",
              "          action: 'append',\n",
              "          file: file.name,\n",
              "          data: base64,\n",
              "        },\n",
              "      };\n",
              "\n",
              "      let percentDone = fileData.byteLength === 0 ?\n",
              "          100 :\n",
              "          Math.round((position / fileData.byteLength) * 100);\n",
              "      percent.textContent = `${percentDone}% done`;\n",
              "\n",
              "    } while (position < fileData.byteLength);\n",
              "  }\n",
              "\n",
              "  // All done.\n",
              "  yield {\n",
              "    response: {\n",
              "      action: 'complete',\n",
              "    }\n",
              "  };\n",
              "}\n",
              "\n",
              "scope.google = scope.google || {};\n",
              "scope.google.colab = scope.google.colab || {};\n",
              "scope.google.colab._files = {\n",
              "  _uploadFiles,\n",
              "  _uploadFilesContinue,\n",
              "};\n",
              "})(self);\n",
              "</script> "
            ]
          },
          "metadata": {}
        },
        {
          "output_type": "stream",
          "name": "stdout",
          "text": [
            "Saving archive student.zip to archive student.zip\n"
          ]
        }
      ]
    },
    {
      "cell_type": "markdown",
      "source": [
        "import zip file"
      ],
      "metadata": {
        "id": "Z8yoHBagGB33"
      }
    },
    {
      "cell_type": "code",
      "source": [
        "import zipfile, os\n",
        "\n",
        "zip_path = list(uploaded.keys())[0]\n",
        "extract_path = \"/content/\"\n",
        "\n",
        "with zipfile.ZipFile(zip_path, 'r') as zip_ref:\n",
        "    zip_ref.extractall(extract_path)\n",
        "\n",
        "print(\"✅ Extracted files:\", os.listdir(extract_path))\n",
        "\n",
        "\n"
      ],
      "metadata": {
        "id": "4Vxw4_k8F-vv",
        "colab": {
          "base_uri": "https://localhost:8080/"
        },
        "outputId": "00884435-9881-4870-d605-3f32123430e5"
      },
      "execution_count": 3,
      "outputs": [
        {
          "output_type": "stream",
          "name": "stdout",
          "text": [
            "✅ Extracted files: ['.config', 'student-por.csv', 'student-merge.R', 'archive student.zip', 'student-mat.csv', 'sample_data']\n"
          ]
        }
      ]
    },
    {
      "cell_type": "markdown",
      "source": [
        "load csv"
      ],
      "metadata": {
        "id": "eJMXnvkiHaH6"
      }
    },
    {
      "cell_type": "code",
      "source": [
        "os.listdir('/content')\n"
      ],
      "metadata": {
        "id": "UnD_xpPgHbzx",
        "colab": {
          "base_uri": "https://localhost:8080/"
        },
        "outputId": "596b9edc-836f-42a5-a64f-d477353ba997"
      },
      "execution_count": 4,
      "outputs": [
        {
          "output_type": "execute_result",
          "data": {
            "text/plain": [
              "['.config',\n",
              " 'student-por.csv',\n",
              " 'student-merge.R',\n",
              " 'archive student.zip',\n",
              " 'student-mat.csv',\n",
              " 'sample_data']"
            ]
          },
          "metadata": {},
          "execution_count": 4
        }
      ]
    },
    {
      "cell_type": "markdown",
      "source": [
        "load dataset"
      ],
      "metadata": {
        "id": "Atw6En2lHd08"
      }
    },
    {
      "cell_type": "code",
      "source": [
        "import pandas as pd\n",
        "df = pd.read_csv(\"/content/student-mat.csv\", sep=';')\n",
        "print(df.head())\n"
      ],
      "metadata": {
        "id": "wzc0ZaUeHiXk",
        "colab": {
          "base_uri": "https://localhost:8080/"
        },
        "outputId": "057aabb6-a1bb-46e3-fe9f-8a69d59f7ef9"
      },
      "execution_count": 5,
      "outputs": [
        {
          "output_type": "stream",
          "name": "stdout",
          "text": [
            "  school,sex,age,address,famsize,Pstatus,Medu,Fedu,Mjob,Fjob,reason,guardian,traveltime,studytime,failures,schoolsup,famsup,paid,activities,nursery,higher,internet,romantic,famrel,freetime,goout,Dalc,Walc,health,absences,G1,G2,G3\n",
            "0  GP,F,18,U,GT3,A,4,4,at_home,teacher,course,mot...                                                                                                                                                                                 \n",
            "1  GP,F,17,U,GT3,T,1,1,at_home,other,course,fathe...                                                                                                                                                                                 \n",
            "2  GP,F,15,U,LE3,T,1,1,at_home,other,other,mother...                                                                                                                                                                                 \n",
            "3  GP,F,15,U,GT3,T,4,2,health,services,home,mothe...                                                                                                                                                                                 \n",
            "4  GP,F,16,U,GT3,T,3,3,other,other,home,father,1,...                                                                                                                                                                                 \n"
          ]
        }
      ]
    },
    {
      "cell_type": "markdown",
      "source": [
        "# EDA"
      ],
      "metadata": {
        "id": "8Tsm_LOfHqvs"
      }
    },
    {
      "cell_type": "code",
      "source": [
        "if 'sex' in df.columns:\n",
        "    sns.countplot(x='sex', data=df)\n",
        "    plt.title(\"Gender Distribution\")\n",
        "    plt.show()\n",
        "else:\n",
        "    print(\"Column 'sex' not found!\")\n",
        "\n",
        "if 'absences' in df.columns:\n",
        "    sns.histplot(df['absences'], bins=20, kde=True)\n",
        "    plt.title(\"Absences Distribution\")\n",
        "    plt.show()\n",
        "else:\n",
        "    print(\"Column 'absences' not found!\")\n",
        "\n",
        "if all(col in df.columns for col in ['studytime', 'G3']):\n",
        "    sns.boxplot(x='studytime', y='G3', data=df)\n",
        "    plt.title(\"Final Grade vs Study Time\")\n",
        "    plt.show()\n",
        "else:\n",
        "    print(\" Columns 'studytime' or 'G3' not found!\")\n",
        "\n"
      ],
      "metadata": {
        "id": "L1PChjnaHp9S",
        "colab": {
          "base_uri": "https://localhost:8080/"
        },
        "outputId": "ad1ce5a0-c15b-4985-f599-d41f40254ef9"
      },
      "execution_count": 6,
      "outputs": [
        {
          "output_type": "stream",
          "name": "stdout",
          "text": [
            "Column 'sex' not found!\n",
            "Column 'absences' not found!\n",
            " Columns 'studytime' or 'G3' not found!\n"
          ]
        }
      ]
    },
    {
      "cell_type": "markdown",
      "source": [
        "load csv"
      ],
      "metadata": {
        "id": "WZ6aReWpJbSe"
      }
    },
    {
      "cell_type": "markdown",
      "source": [
        "try to find student-mat.csv or any student file"
      ],
      "metadata": {
        "id": "Jga3M_IoLYXd"
      }
    },
    {
      "cell_type": "code",
      "source": [
        "import zipfile, os, pandas as pd\n",
        "\n",
        "# 🔹 Step 1: Correct file name\n",
        "zip_path = \"/content/archive student.zip\"\n",
        "extract_path = \"/content/\"\n",
        "\n",
        "# 🔹 Step 2: Extract files\n",
        "with zipfile.ZipFile(zip_path, 'r') as zip_ref:\n",
        "    zip_ref.extractall(extract_path)\n",
        "\n",
        "# 🔹 Step 3: Find CSV file inside\n",
        "for name in os.listdir(extract_path):\n",
        "    if name.endswith(\".csv\"):\n",
        "        csv_path = os.path.join(extract_path, name)\n",
        "        print(\"✅ CSV found:\", csv_path)\n",
        "\n",
        "# 🔹 Step 4: Read CSV\n",
        "df = pd.read_csv(csv_path, sep=';')\n",
        "print(\"✅ Dataset Loaded Successfully\")\n",
        "print(df.head())"
      ],
      "metadata": {
        "id": "E4XpBisSLYyq",
        "colab": {
          "base_uri": "https://localhost:8080/"
        },
        "outputId": "e78b6714-bc37-47f0-b9b0-f3fcee38c023"
      },
      "execution_count": 9,
      "outputs": [
        {
          "output_type": "stream",
          "name": "stdout",
          "text": [
            "✅ CSV found: /content/student-por.csv\n",
            "✅ CSV found: /content/student-mat.csv\n",
            "✅ Dataset Loaded Successfully\n",
            "  school,sex,age,address,famsize,Pstatus,Medu,Fedu,Mjob,Fjob,reason,guardian,traveltime,studytime,failures,schoolsup,famsup,paid,activities,nursery,higher,internet,romantic,famrel,freetime,goout,Dalc,Walc,health,absences,G1,G2,G3\n",
            "0  GP,F,18,U,GT3,A,4,4,at_home,teacher,course,mot...                                                                                                                                                                                 \n",
            "1  GP,F,17,U,GT3,T,1,1,at_home,other,course,fathe...                                                                                                                                                                                 \n",
            "2  GP,F,15,U,LE3,T,1,1,at_home,other,other,mother...                                                                                                                                                                                 \n",
            "3  GP,F,15,U,GT3,T,4,2,health,services,home,mothe...                                                                                                                                                                                 \n",
            "4  GP,F,16,U,GT3,T,3,3,other,other,home,father,1,...                                                                                                                                                                                 \n"
          ]
        }
      ]
    },
    {
      "cell_type": "markdown",
      "source": [
        "EDA"
      ],
      "metadata": {
        "id": "Stm2nSIqJWvK"
      }
    },
    {
      "cell_type": "code",
      "source": [
        "import seaborn as sns\n",
        "import matplotlib.pyplot as plt"
      ],
      "metadata": {
        "id": "KrdRW5T6PG7d"
      },
      "execution_count": 10,
      "outputs": []
    },
    {
      "cell_type": "markdown",
      "source": [
        "BASIC DATASET OVERVIEW"
      ],
      "metadata": {
        "id": "WWIhYW0sInrO"
      }
    },
    {
      "cell_type": "code",
      "source": [
        "print(\"📋 Dataset Information:\")\n",
        "print(df.info())\n",
        "print(\"\\n📊 Summary Statistics:\")\n",
        "print(df.describe())\n",
        "print(\"\\n🔍 Missing Values Count:\")\n",
        "print(df.isnull().sum())"
      ],
      "metadata": {
        "id": "ItUxeh5aPOZA",
        "colab": {
          "base_uri": "https://localhost:8080/"
        },
        "outputId": "bad8ef04-e3f2-45bb-f113-1eb6786a4851"
      },
      "execution_count": 11,
      "outputs": [
        {
          "output_type": "stream",
          "name": "stdout",
          "text": [
            "📋 Dataset Information:\n",
            "<class 'pandas.core.frame.DataFrame'>\n",
            "RangeIndex: 395 entries, 0 to 394\n",
            "Data columns (total 1 columns):\n",
            " #   Column                                                                                                                                                                                                                               Non-Null Count  Dtype \n",
            "---  ------                                                                                                                                                                                                                               --------------  ----- \n",
            " 0   school,sex,age,address,famsize,Pstatus,Medu,Fedu,Mjob,Fjob,reason,guardian,traveltime,studytime,failures,schoolsup,famsup,paid,activities,nursery,higher,internet,romantic,famrel,freetime,goout,Dalc,Walc,health,absences,G1,G2,G3  395 non-null    object\n",
            "dtypes: object(1)\n",
            "memory usage: 3.2+ KB\n",
            "None\n",
            "\n",
            "📊 Summary Statistics:\n",
            "       school,sex,age,address,famsize,Pstatus,Medu,Fedu,Mjob,Fjob,reason,guardian,traveltime,studytime,failures,schoolsup,famsup,paid,activities,nursery,higher,internet,romantic,famrel,freetime,goout,Dalc,Walc,health,absences,G1,G2,G3\n",
            "count                                                 395                                                                                                                                                                                 \n",
            "unique                                                395                                                                                                                                                                                 \n",
            "top     MS,M,19,U,LE3,T,1,1,other,at_home,course,fathe...                                                                                                                                                                                 \n",
            "freq                                                    1                                                                                                                                                                                 \n",
            "\n",
            "🔍 Missing Values Count:\n",
            "school,sex,age,address,famsize,Pstatus,Medu,Fedu,Mjob,Fjob,reason,guardian,traveltime,studytime,failures,schoolsup,famsup,paid,activities,nursery,higher,internet,romantic,famrel,freetime,goout,Dalc,Walc,health,absences,G1,G2,G3    0\n",
            "dtype: int64\n"
          ]
        }
      ]
    },
    {
      "cell_type": "markdown",
      "source": [
        "Gender Distribution"
      ],
      "metadata": {
        "id": "4koJbfWAPi8Q"
      }
    },
    {
      "cell_type": "code",
      "source": [
        "gender_col = None\n",
        "for col in df.columns:\n",
        "    if col.lower() in ['sex', 'gender']:\n",
        "        gender_col = col\n",
        "        break\n",
        "\n",
        "if gender_col:\n",
        "    plt.figure(figsize=(6,4))\n",
        "    sns.countplot(x=gender_col, data=df, palette='Set2')\n",
        "    plt.title(\"Gender Distribution\")\n",
        "    plt.xlabel(\"Gender\")\n",
        "    plt.ylabel(\"Count\")\n",
        "    plt.show()\n",
        "else:\n",
        "    print(\"⚠️ Gender column not found in dataset.\")\n"
      ],
      "metadata": {
        "id": "0N6ruaE0PiAb",
        "colab": {
          "base_uri": "https://localhost:8080/"
        },
        "outputId": "16373be2-e3b4-44cf-c949-9194fabbee4f"
      },
      "execution_count": 12,
      "outputs": [
        {
          "output_type": "stream",
          "name": "stdout",
          "text": [
            "⚠️ Gender column not found in dataset.\n"
          ]
        }
      ]
    },
    {
      "cell_type": "markdown",
      "source": [
        "Absences Distribution"
      ],
      "metadata": {
        "id": "bcOduNLIQ8Dh"
      }
    },
    {
      "cell_type": "code",
      "source": [
        "if 'absences' in df.columns:\n",
        "    plt.figure(figsize=(6,4))\n",
        "    sns.histplot(df['absences'], bins=20, kde=True, color='teal')\n",
        "    plt.title(\"Absences Distribution\")\n",
        "    plt.xlabel(\"Number of Absences\")\n",
        "    plt.ylabel(\"Frequency\")\n",
        "    plt.show()\n",
        "else:\n",
        "    print(\"⚠️ 'absences' column not found in dataset.\")"
      ],
      "metadata": {
        "id": "i8zm4ZMiRFE9",
        "colab": {
          "base_uri": "https://localhost:8080/"
        },
        "outputId": "3f70cf7a-82f6-435d-f3da-48ff3d3421c8"
      },
      "execution_count": 13,
      "outputs": [
        {
          "output_type": "stream",
          "name": "stdout",
          "text": [
            "⚠️ 'absences' column not found in dataset.\n"
          ]
        }
      ]
    },
    {
      "cell_type": "markdown",
      "source": [
        "Study Time vs Final Grade"
      ],
      "metadata": {
        "id": "6y-1T0MERPNi"
      }
    },
    {
      "cell_type": "code",
      "source": [
        "if 'studytime' in df.columns and 'G3' in df.columns:\n",
        "    plt.figure(figsize=(6,4))\n",
        "    sns.boxplot(x='studytime', y='G3', data=df, palette='pastel')\n",
        "    plt.title(\"Final Grade vs Study Time\")\n",
        "    plt.xlabel(\"Study Time (hours)\")\n",
        "    plt.ylabel(\"Final Grade (G3)\")\n",
        "    plt.show()\n",
        "else:\n",
        "    print(\"⚠️ Columns 'studytime' or 'G3' not found in dataset.\")"
      ],
      "metadata": {
        "id": "CpOHb-WeRN9X",
        "colab": {
          "base_uri": "https://localhost:8080/"
        },
        "outputId": "cf71a9be-5700-4cac-b599-66650b06c11a"
      },
      "execution_count": 14,
      "outputs": [
        {
          "output_type": "stream",
          "name": "stdout",
          "text": [
            "⚠️ Columns 'studytime' or 'G3' not found in dataset.\n"
          ]
        }
      ]
    }
  ]
}