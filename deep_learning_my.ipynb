{
  "nbformat": 4,
  "nbformat_minor": 0,
  "metadata": {
    "colab": {
      "private_outputs": true,
      "provenance": []
    },
    "kernelspec": {
      "name": "python3",
      "display_name": "Python 3"
    },
    "language_info": {
      "name": "python"
    }
  },
  "cells": [
    {
      "cell_type": "markdown",
      "source": [
        "important librariies"
      ],
      "metadata": {
        "id": "0E2_2eC2ZfiD"
      }
    },
    {
      "cell_type": "code",
      "execution_count": null,
      "metadata": {
        "id": "8v5j1xhJZbqb"
      },
      "outputs": [],
      "source": [
        "import pandas as pd\n",
        "import numpy as np\n",
        "import matplotlib.pyplot as plt\n",
        "import seaborn as sns\n",
        "from sklearn.model_selection import train_test_split\n",
        "from sklearn.tree import DecisionTreeClassifier, plot_tree\n",
        "from sklearn.metrics import accuracy_score, classification_report, confusion_matrix\n"
      ]
    },
    {
      "cell_type": "markdown",
      "source": [
        "load dataset"
      ],
      "metadata": {
        "id": "S5Z4_I3kZmIU"
      }
    },
    {
      "cell_type": "code",
      "source": [
        "# Step 1️⃣ — Import Required Libraries\n",
        "import pandas as pd\n",
        "import seaborn as sns\n",
        "import matplotlib.pyplot as plt\n",
        "\n",
        "# Step 2️⃣ — Load the Dataset (assuming you already extracted ZIP)\n",
        "df = pd.read_csv(\"/content/student-mat.csv\", sep=';')  # change path if needed\n",
        "\n",
        "print(\"✅ Dataset Loaded Successfully!\")\n",
        "print(df.head())\n",
        "print(\"\\nDataset Shape:\", df.shape)\n",
        "\n",
        "# Step 3️⃣ — Basic Info\n",
        "print(\"\\n🔹 Dataset Info:\")\n",
        "print(df.info())\n",
        "\n",
        "print(\"\\n🔹 Summary Statistics:\")\n",
        "print(df.describe())\n",
        "\n",
        "print(\"\\n🔹 Missing Values per Column:\")\n",
        "print(df.isnull().sum())\n",
        "\n"
      ],
      "metadata": {
        "id": "2NiFMzoOZtDz"
      },
      "execution_count": null,
      "outputs": []
    },
    {
      "cell_type": "markdown",
      "source": [
        "import library"
      ],
      "metadata": {
        "id": "xtnLXQpdk54o"
      }
    },
    {
      "cell_type": "code",
      "source": [
        "import pandas as pd\n",
        "import numpy as np\n",
        "import matplotlib.pyplot as plt\n",
        "import seaborn as sns\n",
        "\n",
        "# Make plots look better\n",
        "sns.set(style=\"whitegrid\")\n"
      ],
      "metadata": {
        "id": "UMNvZHNTk4nZ"
      },
      "execution_count": null,
      "outputs": []
    },
    {
      "cell_type": "markdown",
      "source": [
        "load dataset"
      ],
      "metadata": {
        "id": "zGWhSXXTk-S-"
      }
    },
    {
      "cell_type": "code",
      "source": [
        "import os\n",
        "from google.colab import files\n",
        "import zipfile\n",
        "\n",
        "# Upload your zip file (manually)\n",
        "uploaded = files.upload()\n",
        "\n",
        "# Extract uploaded zip file\n",
        "for filename in uploaded.keys():\n",
        "    with zipfile.ZipFile(filename, 'r') as zip_ref:\n",
        "        zip_ref.extractall(\"/content/\")\n",
        "    print(f\"✅ Extracted: {filename}\")\n",
        "\n",
        "# Load CSV (update filename if needed)\n",
        "df = pd.read_csv(\"/content/student-mat.csv\")\n",
        "print(\"✅ Data Loaded Successfully!\")\n",
        "df.head()\n"
      ],
      "metadata": {
        "id": "UnM0lXY-k_6c"
      },
      "execution_count": null,
      "outputs": []
    },
    {
      "cell_type": "markdown",
      "source": [
        "basic info info"
      ],
      "metadata": {
        "id": "m4rGuem0lKgx"
      }
    },
    {
      "cell_type": "code",
      "source": [
        "print(\"✅ Basic Dataset Info:\")\n",
        "print(df.info())\n",
        "\n",
        "print(\"\\n✅ Missing Values:\")\n",
        "print(df.isnull().sum())\n",
        "\n"
      ],
      "metadata": {
        "id": "jWA90_fZkeII"
      },
      "execution_count": null,
      "outputs": []
    },
    {
      "cell_type": "markdown",
      "source": [
        "statical summary"
      ],
      "metadata": {
        "id": "rWwnMrvplgys"
      }
    },
    {
      "cell_type": "code",
      "source": [
        "print(\"✅ Statistical Summary:\")\n",
        "print(df.describe())\n"
      ],
      "metadata": {
        "id": "ajuRbIxflldX"
      },
      "execution_count": null,
      "outputs": []
    },
    {
      "cell_type": "markdown",
      "source": [
        "gender distibution"
      ],
      "metadata": {
        "id": "QYMznS7tlpB1"
      }
    },
    {
      "cell_type": "code",
      "source": [
        "plt.figure(figsize=(6,4))\n",
        "sns.countplot(x='sex', data=df, palette='Set2')\n",
        "plt.title(\"Gender Distribution\")\n",
        "plt.show()\n",
        "\n"
      ],
      "metadata": {
        "id": "C2DWrwiraZ1c"
      },
      "execution_count": null,
      "outputs": []
    },
    {
      "cell_type": "markdown",
      "source": [
        "Study Time vs Final Grade"
      ],
      "metadata": {
        "id": "bnemHLgCakGP"
      }
    },
    {
      "cell_type": "code",
      "source": [
        "plt.figure(figsize=(6,4))\n",
        "sns.boxplot(x='studytime', y='G3', data=df, palette='coolwarm')\n",
        "plt.title(\"Final Grade vs Study Time\")\n",
        "plt.show()\n",
        "\n"
      ],
      "metadata": {
        "id": "5oT_zFHxaql0"
      },
      "execution_count": null,
      "outputs": []
    },
    {
      "cell_type": "markdown",
      "source": [
        "Study Time vs Final Grade"
      ],
      "metadata": {
        "id": "8PPRQricauZb"
      }
    },
    {
      "cell_type": "code",
      "source": [
        "plt.figure(figsize=(6,4))\n",
        "sns.boxplot(x='studytime', y='G3', data=df, palette='coolwarm')\n",
        "plt.title(\"Final Grade vs Study Time\")\n",
        "plt.show()\n",
        "\n"
      ],
      "metadata": {
        "id": "Knsp9HMgaw_0"
      },
      "execution_count": null,
      "outputs": []
    },
    {
      "cell_type": "markdown",
      "source": [
        "Absences Distribution"
      ],
      "metadata": {
        "id": "033z8XZta3N6"
      }
    },
    {
      "cell_type": "code",
      "source": [
        "plt.figure(figsize=(6,4))\n",
        "sns.histplot(df['absences'], bins=20, kde=True, color='teal')\n",
        "plt.title(\"Absences Distribution\")\n",
        "plt.show()\n"
      ],
      "metadata": {
        "id": "LrrLXxGXa6Kr"
      },
      "execution_count": null,
      "outputs": []
    },
    {
      "cell_type": "markdown",
      "source": [
        "Correlation Heatmap"
      ],
      "metadata": {
        "id": "_7kfu327a9Cl"
      }
    },
    {
      "cell_type": "code",
      "source": [
        "plt.figure(figsize=(12,8))\n",
        "corr_matrix = df.corr(numeric_only=True)  # ✅ prevents error with non-numeric columns\n",
        "sns.heatmap(corr_matrix, cmap='coolwarm', annot=False)\n",
        "plt.title(\"Feature Correlation Heatmap\")\n",
        "plt.show()\n",
        "\n"
      ],
      "metadata": {
        "id": "QCuEOaX1a8tp"
      },
      "execution_count": null,
      "outputs": []
    },
    {
      "cell_type": "markdown",
      "source": [
        "grade comparison\n"
      ],
      "metadata": {
        "id": "fHIVG48gbFNy"
      }
    },
    {
      "cell_type": "code",
      "source": [
        "plt.figure(figsize=(6,4))\n",
        "sns.scatterplot(x='G1', y='G3', data=df, color='orange')\n",
        "plt.title(\"G1 vs G3 Relationship\")\n",
        "plt.show()\n"
      ],
      "metadata": {
        "id": "ZUEIUdiInDhx"
      },
      "execution_count": null,
      "outputs": []
    },
    {
      "cell_type": "markdown",
      "source": [
        "Family Relationship & Free Time\n"
      ],
      "metadata": {
        "id": "ZOgIide7bKOt"
      }
    },
    {
      "cell_type": "code",
      "source": [
        "plt.figure(figsize=(6,4))\n",
        "sns.boxplot(x='famrel', y='G3', data=df, palette='viridis')\n",
        "plt.title(\"Family Relationship vs Final Grade\")\n",
        "plt.show()\n",
        "\n",
        "plt.figure(figsize=(6,4))\n",
        "sns.boxplot(x='freetime', y='G3', data=df, palette='magma')\n",
        "plt.title(\"Free Time vs Final Grade\")\n",
        "plt.show()\n",
        "\n"
      ],
      "metadata": {
        "id": "uRuLT7aFbNGS"
      },
      "execution_count": null,
      "outputs": []
    }
  ]
}